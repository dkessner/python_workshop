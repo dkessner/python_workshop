{
  "metadata": {
    "kernelspec": {
      "name": "xeus-python",
      "display_name": "Python (XPython)",
      "language": "python"
    },
    "language_info": {
      "file_extension": ".py",
      "mimetype": "text/x-python",
      "name": "python",
      "version": "3.11.3"
    }
  },
  "nbformat_minor": 4,
  "nbformat": 4,
  "cells": [
    {
      "cell_type": "code",
      "source": "import requests\nfrom ipywidgets import Image\nfrom ipycanvas import Canvas\n\ncatapi_url = \"https://api.thecatapi.com/v1/images/search\"\n",
      "metadata": {
        "trusted": true
      },
      "outputs": [],
      "execution_count": 48
    },
    {
      "cell_type": "code",
      "source": "\nresult = requests.get(catapi_url)\nurl = result.json()[0]['url']\nprint(url)\n\ncanvas = Canvas(width=800, height=800, layout=dict(width=\"100%\"))\ncat = Image.from_url(url)\n\ncanvas.draw_image(cat, 0, 0)\ncanvas",
      "metadata": {
        "trusted": true
      },
      "outputs": [
        {
          "name": "stdout",
          "text": "https://cdn2.thecatapi.com/images/MTU3Njg1Mg.jpg\n",
          "output_type": "stream"
        },
        {
          "execution_count": 57,
          "output_type": "execute_result",
          "data": {
            "application/vnd.jupyter.widget-view+json": {
              "model_id": "eb048ea12a9d44c78192754fd14d293f",
              "version_major": 2,
              "version_minor": 0
            },
            "text/plain": "Canvas(height=800, layout=Layout(width='100%'), width=800)"
          },
          "metadata": {}
        }
      ],
      "execution_count": 57
    },
    {
      "cell_type": "code",
      "source": "",
      "metadata": {
        "trusted": true
      },
      "outputs": [],
      "execution_count": null
    }
  ]
}