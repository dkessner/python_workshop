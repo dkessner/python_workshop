{
  "metadata": {
    "kernelspec": {
      "name": "python",
      "display_name": "Python (Pyodide)",
      "language": "python"
    },
    "language_info": {
      "codemirror_mode": {
        "name": "python",
        "version": 3
      },
      "file_extension": ".py",
      "mimetype": "text/x-python",
      "name": "python",
      "nbconvert_exporter": "python",
      "pygments_lexer": "ipython3",
      "version": "3.8"
    }
  },
  "nbformat_minor": 4,
  "nbformat": 4,
  "cells": [
    {
      "cell_type": "markdown",
      "source": "# Python Workshop\n\n## 1. Introduction to the Python language \n\n- variables\n- lists, loops\n- conditions\n- exercises: sequences, FizzBuzz, Fibonacci\n- files, strings\n- exercises: exploratory data analysis  \n\n## 2. Introduction to Python libraries\n\n- csv\n- Pandas\n- json?\n- exercises: more exploratory data analysis   \n\n## 3. Running Python programs\n\n- Terminal / cmd\n- interactive mode\n- run programs\n- local data files\n- exercises: Turtle graphics?  transformers?\n\n",
      "metadata": {}
    },
    {
      "cell_type": "code",
      "source": "",
      "metadata": {
        "trusted": true
      },
      "outputs": [],
      "execution_count": null
    }
  ]
}